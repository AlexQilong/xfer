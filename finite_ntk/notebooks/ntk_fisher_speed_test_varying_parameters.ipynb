{
 "cells": [
  {
   "cell_type": "code",
   "execution_count": 1,
   "metadata": {},
   "outputs": [],
   "source": [
    "import matplotlib.pyplot as plt\n",
    "import torch\n",
    "import gpytorch\n",
    "import time\n",
    "import numpy as np\n",
    "\n",
    "%matplotlib inline"
   ]
  },
  {
   "cell_type": "code",
   "execution_count": 2,
   "metadata": {},
   "outputs": [],
   "source": [
    "import pickle"
   ]
  },
  {
   "cell_type": "code",
   "execution_count": 3,
   "metadata": {},
   "outputs": [],
   "source": [
    "import finite_ntk"
   ]
  },
  {
   "cell_type": "code",
   "execution_count": 4,
   "metadata": {},
   "outputs": [],
   "source": [
    "class ExactGPModel(gpytorch.models.ExactGP):\n",
    "    # exact Gaussian process class\n",
    "    def __init__(self, train_x, train_y, likelihood, model, use_linearstrategy=False):\n",
    "        super(ExactGPModel, self).__init__(train_x, train_y, likelihood)\n",
    "        self.mean_module = gpytorch.means.ConstantMean()\n",
    "        self.covar_module = finite_ntk.lazy.NTK(\n",
    "            model=model, use_linearstrategy=use_linearstrategy\n",
    "        )\n",
    "\n",
    "    def forward(self, x):\n",
    "        mean_x = self.mean_module(x)\n",
    "        covar_x = self.covar_module(x)\n",
    "        return gpytorch.distributions.MultivariateNormal(mean_x, covar_x)"
   ]
  },
  {
   "cell_type": "code",
   "execution_count": 5,
   "metadata": {},
   "outputs": [],
   "source": [
    "def run_model_list(model, n_list, use_linearstrategy=False):\n",
    "    num_data_list = []\n",
    "    for n in num_data_points:\n",
    "        print('Memory allocated: ', torch.cuda.memory_allocated()/1024**3)\n",
    "        \n",
    "        model.train()\n",
    "\n",
    "        print('N: ', n)\n",
    "\n",
    "        data = torch.randn(n, 5).cuda()\n",
    "        y = torch.randn(n).cuda()\n",
    "        \n",
    "        likelihood = gpytorch.likelihoods.GaussianLikelihood().cuda()\n",
    "\n",
    "        mm = ExactGPModel(data, y, likelihood, model, use_linearstrategy=use_linearstrategy).cuda()\n",
    "        #mm.set_train_data(data, y, strict=False)\n",
    "\n",
    "        start = time.time()\n",
    "        logprob = likelihood(mm(data)).log_prob(y)\n",
    "        log_end = time.time() - start\n",
    "\n",
    "        mm.eval()\n",
    "\n",
    "        with gpytorch.settings.fast_pred_var(), gpytorch.settings.max_eager_kernel_size(200):\n",
    "            test_data = torch.randn(50, 5).cuda()\n",
    "\n",
    "            start = time.time()\n",
    "            pred_vars = mm(test_data).mean\n",
    "            var_end = time.time() - start\n",
    "\n",
    "        num_data_list.append([log_end, var_end])\n",
    "    \n",
    "        mm.prediction_strategy = None\n",
    "        del mm, model\n",
    "        torch.cuda.empty_cache()\n",
    "    return num_data_list"
   ]
  },
  {
   "cell_type": "markdown",
   "metadata": {},
   "source": [
    "## First we will vary parameters"
   ]
  },
  {
   "cell_type": "code",
   "execution_count": 6,
   "metadata": {},
   "outputs": [],
   "source": [
    "# a simple function to generate models with varying width and depth\n",
    "# we will vary only width for simplicity, although depth will act similarly\n",
    "\n",
    "def generate_model(width=100, depth=5):\n",
    "    layer_list = [torch.nn.Linear(5, width),\n",
    "                 torch.nn.ELU()]\n",
    "    \n",
    "    for d in range(depth - 2):\n",
    "        layer_list.append(torch.nn.Linear(width, width))\n",
    "        layer_list.append(torch.nn.ELU())\n",
    "        \n",
    "    layer_list.append(torch.nn.Linear(width, 1))\n",
    "    \n",
    "    model = torch.nn.Sequential(*layer_list)\n",
    "    numpars = sum(m.numel() for m in model.parameters())\n",
    "    return model, numpars"
   ]
  },
  {
   "cell_type": "code",
   "execution_count": 7,
   "metadata": {},
   "outputs": [
    {
     "name": "stdout",
     "output_type": "stream",
     "text": [
      "width:  10\n",
      "Memory allocated:  4.76837158203125e-06\n",
      "N:  1000\n",
      "width:  50\n",
      "Memory allocated:  3.24249267578125e-05\n",
      "N:  1000\n",
      "width:  100\n",
      "Memory allocated:  0.00011777877807617188\n",
      "N:  1000\n",
      "width:  250\n",
      "Memory allocated:  0.00070953369140625\n",
      "N:  1000\n",
      "width:  500\n",
      "Memory allocated:  0.002814769744873047\n",
      "N:  1000\n",
      "width:  750\n",
      "Memory allocated:  0.006316184997558594\n",
      "N:  1000\n",
      "width:  1000\n",
      "Memory allocated:  0.0112152099609375\n",
      "N:  1000\n",
      "width:  1250\n",
      "Memory allocated:  0.017511367797851562\n",
      "N:  1000\n",
      "width:  1500\n",
      "Memory allocated:  0.025204181671142578\n",
      "N:  1000\n",
      "width:  1750\n",
      "Memory allocated:  0.034603118896484375\n",
      "N:  1000\n",
      "width:  2000\n",
      "Memory allocated:  0.04550361633300781\n",
      "N:  1000\n",
      "width:  3000\n",
      "Memory allocated:  0.10069751739501953\n",
      "N:  1000\n",
      "width:  5000\n",
      "Memory allocated:  0.28143930435180664\n",
      "N:  1000\n"
     ]
    }
   ],
   "source": [
    "width_list = [10, 50, 100, 250, 500, 750, 1000, 1250, 1500, 1750, 2000, 3000, 5000]\n",
    "\n",
    "num_data_points = [1000]\n",
    "\n",
    "width_results_list = []\n",
    "for width in width_list:\n",
    "    print('width: ', width)\n",
    "    model, numpars = generate_model(width)\n",
    "    fun_space_list = run_model_list(model.cuda(), num_data_points)\n",
    "    width_results_list.append([fun_space_list, numpars])\n",
    "    del model\n"
   ]
  },
  {
   "cell_type": "code",
   "execution_count": 8,
   "metadata": {},
   "outputs": [
    {
     "name": "stdout",
     "output_type": "stream",
     "text": [
      "width:  10\n",
      "Memory allocated:  4.76837158203125e-06\n",
      "N:  1000\n",
      "width:  50\n",
      "Memory allocated:  3.24249267578125e-05\n",
      "N:  1000\n",
      "torch.Size([8001])\n",
      "width:  100\n",
      "Memory allocated:  0.00011777877807617188\n",
      "N:  1000\n",
      "torch.Size([31001])\n",
      "width:  250\n",
      "Memory allocated:  0.00070953369140625\n",
      "N:  1000\n",
      "torch.Size([190001])\n",
      "width:  500\n",
      "Memory allocated:  0.002814769744873047\n",
      "N:  1000\n",
      "torch.Size([755001])\n",
      "width:  750\n",
      "Memory allocated:  0.006316184997558594\n",
      "N:  1000\n",
      "torch.Size([1695001])\n",
      "width:  1000\n",
      "Memory allocated:  0.0112152099609375\n",
      "N:  1000\n",
      "torch.Size([3010001])\n",
      "width:  1250\n",
      "Memory allocated:  0.017511367797851562\n",
      "N:  1000\n",
      "torch.Size([4700001])\n",
      "width:  1500\n",
      "Memory allocated:  0.025204181671142578\n",
      "N:  1000\n",
      "torch.Size([6765001])\n",
      "width:  1750\n",
      "Memory allocated:  0.034603118896484375\n",
      "N:  1000\n",
      "torch.Size([9205001])\n",
      "Model failed --- probably OOMed\n",
      "Parameter size:  9205001\n"
     ]
    }
   ],
   "source": [
    "ps_width_results_list = []\n",
    "for width in width_list:\n",
    "    print('width: ', width)\n",
    "    model, numpars = generate_model(width)\n",
    "    try:\n",
    "        fun_space_list = run_model_list(model.cuda(), num_data_points, use_linearstrategy=True)\n",
    "        ps_width_results_list.append([fun_space_list, numpars])\n",
    "        del model\n",
    "    except:\n",
    "        print('Model failed --- probably OOMed')\n",
    "        print('Parameter size: ', numpars)\n",
    "        break"
   ]
  },
  {
   "cell_type": "code",
   "execution_count": 9,
   "metadata": {},
   "outputs": [],
   "source": [
    "im_list = np.vstack([np.array(w[0])[:,1] for w in width_results_list])\n",
    "par_im_list = np.vstack([np.array(w[0])[:,1] for w in ps_width_results_list])\n",
    "\n",
    "pars = np.array([w[1] for w in width_results_list])\n",
    "ps_pars = np.array([w[1] for w in ps_width_results_list])"
   ]
  },
  {
   "cell_type": "code",
   "execution_count": 10,
   "metadata": {},
   "outputs": [
    {
     "data": {
      "image/png": "[encoded data removed]",
      "text/plain": [
       "<Figure size 432x288 with 1 Axes>"
      ]
     },
     "metadata": {
      "needs_background": "light"
     },
     "output_type": "display_data"
    }
   ],
   "source": [
    "plt.plot(pars, im_list, marker = 'x', label = 'Function Space')\n",
    "plt.plot(ps_pars, par_im_list, marker = 'x', label = 'Parameter Space')\n",
    "plt.xscale('log')\n",
    "plt.yscale('log')\n",
    "plt.grid()\n",
    "plt.legend(fontsize=16)\n",
    "plt.xlabel('Parameters', fontsize=16)\n",
    "plt.ylabel('Time (s)', fontsize=16)\n",
    "plt.savefig('ntk_p_speed.pdf', bbox_inches='tight')"
   ]
  },
  {
   "cell_type": "code",
   "execution_count": 11,
   "metadata": {},
   "outputs": [],
   "source": [
    "with open('../data/ntk_mlp_varying_pars_speed_gp.pkl', 'wb') as handle:\n",
    "    plot_dict = {\n",
    "        'function_space': width_results_list,\n",
    "        'parameter_space': ps_width_results_list,\n",
    "    }\n",
    "    pickle.dump(plot_dict, handle, pickle.HIGHEST_PROTOCOL)"
   ]
  },
  {
   "cell_type": "code",
   "execution_count": 13,
   "metadata": {},
   "outputs": [],
   "source": [
    "torch.cuda.empty_cache()"
   ]
  }
 ],
 "metadata": {
  "kernelspec": {
   "display_name": "Python 3",
   "language": "python",
   "name": "python3"
  },
  "language_info": {
   "codemirror_mode": {
    "name": "ipython",
    "version": 3
   },
   "file_extension": ".py",
   "mimetype": "text/x-python",
   "name": "python",
   "nbconvert_exporter": "python",
   "pygments_lexer": "ipython3",
   "version": "3.7.4"
  }
 },
 "nbformat": 4,
 "nbformat_minor": 2
}
