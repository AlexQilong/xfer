{
 "cells": [
  {
   "cell_type": "code",
   "execution_count": 1,
   "metadata": {},
   "outputs": [],
   "source": [
    "import matplotlib.pyplot as plt\n",
    "import torch\n",
    "import gpytorch\n",
    "import time\n",
    "import numpy as np\n",
    "\n",
    "%matplotlib inline"
   ]
  },
  {
   "cell_type": "code",
   "execution_count": 2,
   "metadata": {},
   "outputs": [],
   "source": [
    "import pickle"
   ]
  },
  {
   "cell_type": "code",
   "execution_count": 3,
   "metadata": {},
   "outputs": [
    {
     "name": "stdout",
     "output_type": "stream",
     "text": [
      "Automatic pdb calling has been turned ON\n"
     ]
    }
   ],
   "source": [
    "import finite_ntk\n",
    "%pdb"
   ]
  },
  {
   "cell_type": "code",
   "execution_count": 4,
   "metadata": {},
   "outputs": [],
   "source": [
    "class ExactGPModel(gpytorch.models.ExactGP):\n",
    "    # exact RBF Gaussian process class\n",
    "    def __init__(self, train_x, train_y, likelihood, model, use_linearstrategy=False):\n",
    "        super(ExactGPModel, self).__init__(train_x, train_y, likelihood)\n",
    "        self.mean_module = gpytorch.means.ConstantMean()\n",
    "        self.covar_module = finite_ntk.lazy.NTK(\n",
    "            model=model, use_linearstrategy=use_linearstrategy\n",
    "        )\n",
    "\n",
    "    def forward(self, x):\n",
    "        mean_x = self.mean_module(x)\n",
    "        covar_x = self.covar_module(x)\n",
    "        return gpytorch.distributions.MultivariateNormal(mean_x, covar_x)"
   ]
  },
  {
   "cell_type": "code",
   "execution_count": 5,
   "metadata": {},
   "outputs": [],
   "source": [
    "model = torch.nn.Sequential(\n",
    "    torch.nn.Linear(5, 200),\n",
    "    torch.nn.ELU(),\n",
    "    torch.nn.Linear(200, 2000),\n",
    "    torch.nn.ELU(),\n",
    "    torch.nn.Linear(2000, 200),\n",
    "    torch.nn.ELU(),\n",
    "    torch.nn.Linear(200, 1),\n",
    ").cuda()"
   ]
  },
  {
   "cell_type": "code",
   "execution_count": 6,
   "metadata": {},
   "outputs": [],
   "source": [
    "likelihood = gpytorch.likelihoods.GaussianLikelihood().cuda()\n",
    "\n",
    "gpmodel = ExactGPModel(torch.randn(10, 5).cuda(), torch.randn(10).cuda(), likelihood, model).cuda()\n",
    "parspace_gpmodel = ExactGPModel(torch.randn(10, 5).cuda(), torch.randn(10).cuda(), \n",
    "                                likelihood, model, use_linearstrategy=True).cuda()"
   ]
  },
  {
   "cell_type": "code",
   "execution_count": 7,
   "metadata": {},
   "outputs": [],
   "source": [
    "def run_model_list(mm, n_list):\n",
    "    num_data_list = []\n",
    "    for n in num_data_points:\n",
    "        mm.train()\n",
    "        #parspace_gpmodel.train()\n",
    "\n",
    "        print('N: ', n)\n",
    "\n",
    "        data = torch.randn(n, 5).cuda()\n",
    "        y = torch.randn(n).cuda()\n",
    "\n",
    "        mm.set_train_data(data, y, strict=False)\n",
    "        #parspace_gpmodel.set_train_data(data, y, strict=False)\n",
    "\n",
    "        start = time.time()\n",
    "        logprob = likelihood(mm(data)).log_prob(y)\n",
    "        log_end = time.time() - start\n",
    "\n",
    "        #start = time.time()\n",
    "        #logprob = likelihood(parspace_gpmodel(data)).log_prob(y)\n",
    "        #plog_end = time.time() - start\n",
    "\n",
    "        mm.eval()\n",
    "        #parspace_gpmodel.eval()\n",
    "\n",
    "        with gpytorch.settings.fast_pred_var(), gpytorch.settings.max_eager_kernel_size(200):\n",
    "            test_data = torch.randn(50, 5).cuda()\n",
    "\n",
    "            start = time.time()\n",
    "            pred_vars = mm(test_data).mean\n",
    "            var_end = time.time() - start\n",
    "\n",
    "    #         start = time.time()\n",
    "    #         pred_vars = parspace_gpmodel(data).variance\n",
    "    #         pvar_end = time.time() - start\n",
    "\n",
    "        #timings = [log_end, plog_end, var_end, pvar_end]\n",
    "        #timings = [log_end, plog_end]\n",
    "        #print(timings)\n",
    "        num_data_list.append([log_end, var_end])\n",
    "    \n",
    "        mm.prediction_strategy = None\n",
    "    \n",
    "    return num_data_list"
   ]
  },
  {
   "cell_type": "code",
   "execution_count": 8,
   "metadata": {},
   "outputs": [
    {
     "name": "stdout",
     "output_type": "stream",
     "text": [
      "N:  300\n",
      "N:  500\n",
      "N:  1000\n",
      "N:  5000\n",
      "N:  10000\n"
     ]
    },
    {
     "name": "stderr",
     "output_type": "stream",
     "text": [
      "/home/wesley/Documents/Code/wjm_gpytorch/gpytorch/utils/linear_cg.py:315: UserWarning: CG terminated in 1000 iterations with average residual norm 0.02696886658668518 which is larger than the tolerance of 0.01 specified by gpytorch.settings.cg_tolerance. If performance is affected, consider raising the maximum number of CG iterations by running code in a gpytorch.settings.max_cg_iterations(value) context.\n",
      "  \" a gpytorch.settings.max_cg_iterations(value) context.\".format(k + 1, residual_norm.mean(), tolerance)\n"
     ]
    },
    {
     "name": "stdout",
     "output_type": "stream",
     "text": [
      "N:  25000\n"
     ]
    },
    {
     "name": "stderr",
     "output_type": "stream",
     "text": [
      "/home/wesley/Documents/Code/wjm_gpytorch/gpytorch/utils/linear_cg.py:315: UserWarning: CG terminated in 1000 iterations with average residual norm 0.06581071764230728 which is larger than the tolerance of 0.01 specified by gpytorch.settings.cg_tolerance. If performance is affected, consider raising the maximum number of CG iterations by running code in a gpytorch.settings.max_cg_iterations(value) context.\n",
      "  \" a gpytorch.settings.max_cg_iterations(value) context.\".format(k + 1, residual_norm.mean(), tolerance)\n"
     ]
    },
    {
     "name": "stdout",
     "output_type": "stream",
     "text": [
      "N:  50000\n"
     ]
    },
    {
     "name": "stderr",
     "output_type": "stream",
     "text": [
      "/home/wesley/Documents/Code/wjm_gpytorch/gpytorch/utils/linear_cg.py:315: UserWarning: CG terminated in 1000 iterations with average residual norm 0.9565521478652954 which is larger than the tolerance of 0.01 specified by gpytorch.settings.cg_tolerance. If performance is affected, consider raising the maximum number of CG iterations by running code in a gpytorch.settings.max_cg_iterations(value) context.\n",
      "  \" a gpytorch.settings.max_cg_iterations(value) context.\".format(k + 1, residual_norm.mean(), tolerance)\n"
     ]
    },
    {
     "name": "stdout",
     "output_type": "stream",
     "text": [
      "N:  100000\n"
     ]
    },
    {
     "name": "stderr",
     "output_type": "stream",
     "text": [
      "/home/wesley/Documents/Code/wjm_gpytorch/gpytorch/utils/linear_cg.py:315: UserWarning: CG terminated in 1000 iterations with average residual norm 0.05929410457611084 which is larger than the tolerance of 0.01 specified by gpytorch.settings.cg_tolerance. If performance is affected, consider raising the maximum number of CG iterations by running code in a gpytorch.settings.max_cg_iterations(value) context.\n",
      "  \" a gpytorch.settings.max_cg_iterations(value) context.\".format(k + 1, residual_norm.mean(), tolerance)\n"
     ]
    }
   ],
   "source": [
    "num_data_points = [300, 500, 1000, 5000, 10000, 25000, 50000, 100000]\n",
    "\n",
    "fun_space_list = run_model_list(gpmodel, num_data_points)\n",
    "del gpmodel\n",
    "\n"
   ]
  },
  {
   "cell_type": "code",
   "execution_count": 9,
   "metadata": {},
   "outputs": [
    {
     "name": "stdout",
     "output_type": "stream",
     "text": [
      "N:  300\n",
      "torch.Size([803601])\n",
      "N:  500\n",
      "torch.Size([803601])\n",
      "N:  1000\n",
      "torch.Size([803601])\n",
      "N:  5000\n",
      "torch.Size([803601])\n",
      "N:  10000\n",
      "torch.Size([803601])\n",
      "N:  25000\n",
      "torch.Size([803601])\n",
      "N:  50000\n",
      "torch.Size([803601])\n",
      "N:  100000\n",
      "torch.Size([803601])\n"
     ]
    }
   ],
   "source": [
    "par_space_list = run_model_list(parspace_gpmodel, num_data_points)\n",
    "del parspace_gpmodel"
   ]
  },
  {
   "cell_type": "code",
   "execution_count": 10,
   "metadata": {},
   "outputs": [
    {
     "data": {
      "text/plain": [
       "<matplotlib.legend.Legend at 0x7f3bef7a23d0>"
      ]
     },
     "execution_count": 10,
     "metadata": {},
     "output_type": "execute_result"
    },
    {
     "data": {
      "image/png": "[encoded data removed]",
      "text/plain": [
       "<Figure size 432x288 with 1 Axes>"
      ]
     },
     "metadata": {
      "needs_background": "light"
     },
     "output_type": "display_data"
    }
   ],
   "source": [
    "plt.plot(num_data_points, np.stack(fun_space_list)[:,1], marker = 'x', label = 'Function Space')\n",
    "plt.plot(num_data_points, np.stack(par_space_list)[:,1], marker = 'x', label = 'Parameter Space')\n",
    "plt.xscale('log')\n",
    "plt.yscale('log')\n",
    "plt.grid()\n",
    "plt.legend()"
   ]
  },
  {
   "cell_type": "code",
   "execution_count": 11,
   "metadata": {},
   "outputs": [
    {
     "name": "stdout",
     "output_type": "stream",
     "text": [
      "803601\n"
     ]
    }
   ],
   "source": [
    "numpars = 0\n",
    "for p in model.parameters():\n",
    "    numpars += p.numel()\n",
    "print(numpars)"
   ]
  },
  {
   "cell_type": "code",
   "execution_count": 13,
   "metadata": {},
   "outputs": [],
   "source": [
    "with open('../data/ntk_mlp_varying_data_speed_gp.pkl', 'wb') as handle:\n",
    "    plot_dict = {\n",
    "        'N': num_data_points,\n",
    "        'ntk': fun_space_list,\n",
    "        'fisher': par_space_list,\n",
    "        'numpars': numpars\n",
    "    }\n",
    "    pickle.dump(plot_dict, handle, pickle.HIGHEST_PROTOCOL)"
   ]
  },
  {
   "cell_type": "code",
   "execution_count": null,
   "metadata": {},
   "outputs": [],
   "source": []
  }
 ],
 "metadata": {
  "kernelspec": {
   "display_name": "Python 3",
   "language": "python",
   "name": "python3"
  },
  "language_info": {
   "codemirror_mode": {
    "name": "ipython",
    "version": 3
   },
   "file_extension": ".py",
   "mimetype": "text/x-python",
   "name": "python",
   "nbconvert_exporter": "python",
   "pygments_lexer": "ipython3",
   "version": "3.7.4"
  }
 },
 "nbformat": 4,
 "nbformat_minor": 2
}
